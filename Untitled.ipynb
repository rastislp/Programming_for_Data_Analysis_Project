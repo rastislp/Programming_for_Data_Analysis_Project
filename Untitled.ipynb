{
 "cells": [
  {
   "cell_type": "markdown",
   "metadata": {},
   "source": [
    "# End of Year Project for module \"Programming for Data Analysis\""
   ]
  },
  {
   "cell_type": "markdown",
   "metadata": {},
   "source": [
    "Author: Rastislav Petras G00252861"
   ]
  },
  {
   "cell_type": "markdown",
   "metadata": {},
   "source": [
    "---"
   ]
  },
  {
   "cell_type": "markdown",
   "metadata": {},
   "source": [
    "**Scoope** of this project is to create a data set by simulating a real-world phenomenon, model and synthesise such data using Python."
   ]
  },
  {
   "cell_type": "markdown",
   "metadata": {},
   "source": [
    "## The Old Continent: how money buys success on the pitch"
   ]
  },
  {
   "cell_type": "markdown",
   "metadata": {},
   "source": [
    "In last decade on old continent, we have only seen 5 football teams from England, Germany, and Spain to win Champion league final. If there are 51 countries in continental Europe why winners are coming only from three of them. What is more interesting is a fact that 3 out of 5 teams has won trophy more than just once. What is behind such a sport **phenomenon**? Luck, talent, money or something else."
   ]
  },
  {
   "attachments": {},
   "cell_type": "markdown",
   "metadata": {},
   "source": [
    "    Season   Winners\n",
    "* 2019-20\tBayern Munich\n",
    "* 2018-19\tLiverpool\n",
    "* 2017-18\tReal Madrid\n",
    "* 2016-17\tReal Madrid\n",
    "* 2015-16\tReal Madrid\n",
    "* 2014-15\tBarcelona\n",
    "* 2013-14\tReal Madrid\n",
    "* 2012-13\tBayern Munich\n",
    "* 2011-12\tChelsea\n",
    "* 2010-11\tBarcelona\n"
   ]
  },
  {
   "cell_type": "markdown",
   "metadata": {},
   "source": [
    "![image.png](https://github.com/rastislp/Task-2020/blob/main/Images/map1.PNG?raw=true)\n",
    "\n",
    "<p style=\"text-align: center;\">Geographic representation of Winners (see Excel file)</p>"
   ]
  },
  {
   "cell_type": "markdown",
   "metadata": {},
   "source": [
    "### References"
   ]
  },
  {
   "cell_type": "markdown",
   "metadata": {},
   "source": [
    "En.wikipedia.org. 2020. European Cup And UEFA Champions League Records And Statistics. [online] Available at: <https://en.wikipedia.org/wiki/European_Cup_and_UEFA_Champions_League_records_and_statistics> [Accessed 24 November 2020]."
   ]
  },
  {
   "cell_type": "code",
   "execution_count": null,
   "metadata": {},
   "outputs": [],
   "source": []
  }
 ],
 "metadata": {
  "kernelspec": {
   "display_name": "Python 3",
   "language": "python",
   "name": "python3"
  },
  "language_info": {
   "codemirror_mode": {
    "name": "ipython",
    "version": 3
   },
   "file_extension": ".py",
   "mimetype": "text/x-python",
   "name": "python",
   "nbconvert_exporter": "python",
   "pygments_lexer": "ipython3",
   "version": "3.7.4"
  }
 },
 "nbformat": 4,
 "nbformat_minor": 2
}
